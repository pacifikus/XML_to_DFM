{
 "cells": [
  {
   "cell_type": "code",
   "execution_count": 26,
   "metadata": {},
   "outputs": [],
   "source": [
    "import pandas as pd\n",
    "import networkx as nx\n",
    "import matplotlib.pyplot as plt"
   ]
  },
  {
   "cell_type": "markdown",
   "metadata": {},
   "source": [
    "####  Количество рабочих мест на всех видах работ по производству товаров и услуг (в среднем за год) (ОКВЭД2)"
   ]
  },
  {
   "cell_type": "code",
   "execution_count": 10,
   "metadata": {},
   "outputs": [
    {
     "data": {
      "text/html": [
       "<div>\n",
       "<style scoped>\n",
       "    .dataframe tbody tr th:only-of-type {\n",
       "        vertical-align: middle;\n",
       "    }\n",
       "\n",
       "    .dataframe tbody tr th {\n",
       "        vertical-align: top;\n",
       "    }\n",
       "\n",
       "    .dataframe thead th {\n",
       "        text-align: right;\n",
       "    }\n",
       "</style>\n",
       "<table border=\"1\" class=\"dataframe\">\n",
       "  <thead>\n",
       "    <tr style=\"text-align: right;\">\n",
       "      <th></th>\n",
       "      <th>Unnamed: 0</th>\n",
       "      <th>Unnamed: 1</th>\n",
       "      <th>Количество рабочих мест на всех видах работ по производству товаров и услуг (в среднем за год) (ОКВЭД2)</th>\n",
       "      <th>11231000100010200002 Количество рабочих мест на всех видах работ по производству товаров и услуг (в среднем за год) (ОКВЭД2)</th>\n",
       "    </tr>\n",
       "  </thead>\n",
       "  <tbody>\n",
       "    <tr>\n",
       "      <th>0</th>\n",
       "      <td>NaN</td>\n",
       "      <td>NaN</td>\n",
       "      <td>2017 г.</td>\n",
       "      <td>2018 г.</td>\n",
       "    </tr>\n",
       "    <tr>\n",
       "      <th>1</th>\n",
       "      <td>Всего по обследуемым видам экономической деяте...</td>\n",
       "      <td>101.АГ</td>\n",
       "      <td>NaN</td>\n",
       "      <td>NaN</td>\n",
       "    </tr>\n",
       "    <tr>\n",
       "      <th>2</th>\n",
       "      <td>СЕЛЬСКОЕ, ЛЕСНОЕ ХОЗЯЙСТВО, ОХОТА, РЫБОЛОВСТВО...</td>\n",
       "      <td>A</td>\n",
       "      <td>NaN</td>\n",
       "      <td>NaN</td>\n",
       "    </tr>\n",
       "    <tr>\n",
       "      <th>3</th>\n",
       "      <td>Растениеводство и животноводство, охота и пред...</td>\n",
       "      <td>01</td>\n",
       "      <td>NaN</td>\n",
       "      <td>NaN</td>\n",
       "    </tr>\n",
       "    <tr>\n",
       "      <th>4</th>\n",
       "      <td>Российская Федерация</td>\n",
       "      <td>643</td>\n",
       "      <td>20923365</td>\n",
       "      <td>2.17111e+07</td>\n",
       "    </tr>\n",
       "    <tr>\n",
       "      <th>5</th>\n",
       "      <td>Центральный федеральный округ</td>\n",
       "      <td>030</td>\n",
       "      <td>4528193</td>\n",
       "      <td>4813968</td>\n",
       "    </tr>\n",
       "    <tr>\n",
       "      <th>6</th>\n",
       "      <td>Белгородская область</td>\n",
       "      <td>14000000000</td>\n",
       "      <td>361788</td>\n",
       "      <td>375698</td>\n",
       "    </tr>\n",
       "    <tr>\n",
       "      <th>7</th>\n",
       "      <td>Брянская область</td>\n",
       "      <td>15000000000</td>\n",
       "      <td>243928</td>\n",
       "      <td>273606</td>\n",
       "    </tr>\n",
       "    <tr>\n",
       "      <th>8</th>\n",
       "      <td>Владимирская область</td>\n",
       "      <td>17000000000</td>\n",
       "      <td>230866</td>\n",
       "      <td>233074</td>\n",
       "    </tr>\n",
       "    <tr>\n",
       "      <th>9</th>\n",
       "      <td>Воронежская область</td>\n",
       "      <td>20000000000</td>\n",
       "      <td>576305</td>\n",
       "      <td>617760</td>\n",
       "    </tr>\n",
       "  </tbody>\n",
       "</table>\n",
       "</div>"
      ],
      "text/plain": [
       "                                          Unnamed: 0   Unnamed: 1  \\\n",
       "0                                                NaN          NaN   \n",
       "1  Всего по обследуемым видам экономической деяте...       101.АГ   \n",
       "2  СЕЛЬСКОЕ, ЛЕСНОЕ ХОЗЯЙСТВО, ОХОТА, РЫБОЛОВСТВО...            A   \n",
       "3  Растениеводство и животноводство, охота и пред...           01   \n",
       "4                               Российская Федерация          643   \n",
       "5                      Центральный федеральный округ          030   \n",
       "6                               Белгородская область  14000000000   \n",
       "7                                   Брянская область  15000000000   \n",
       "8                               Владимирская область  17000000000   \n",
       "9                                Воронежская область  20000000000   \n",
       "\n",
       "  Количество рабочих мест на всех видах работ по производству товаров и услуг (в среднем за год) (ОКВЭД2)  \\\n",
       "0                                            2017 г.                                                        \n",
       "1                                                NaN                                                        \n",
       "2                                                NaN                                                        \n",
       "3                                                NaN                                                        \n",
       "4                                           20923365                                                        \n",
       "5                                            4528193                                                        \n",
       "6                                             361788                                                        \n",
       "7                                             243928                                                        \n",
       "8                                             230866                                                        \n",
       "9                                             576305                                                        \n",
       "\n",
       "  11231000100010200002 Количество рабочих мест на всех видах работ по производству товаров и услуг (в среднем за год) (ОКВЭД2)  \n",
       "0                                            2018 г.                                                                            \n",
       "1                                                NaN                                                                            \n",
       "2                                                NaN                                                                            \n",
       "3                                                NaN                                                                            \n",
       "4                                        2.17111e+07                                                                            \n",
       "5                                            4813968                                                                            \n",
       "6                                             375698                                                                            \n",
       "7                                             273606                                                                            \n",
       "8                                             233074                                                                            \n",
       "9                                             617760                                                                            "
      ]
     },
     "execution_count": 10,
     "metadata": {},
     "output_type": "execute_result"
    }
   ],
   "source": [
    "pd.read_excel('gks_data.xlsx').head(10)"
   ]
  },
  {
   "cell_type": "markdown",
   "metadata": {},
   "source": [
    "##### ERD"
   ]
  },
  {
   "cell_type": "markdown",
   "metadata": {},
   "source": [
    "<img src=\"gks_erd.png\">"
   ]
  },
  {
   "cell_type": "markdown",
   "metadata": {},
   "source": [
    "##### DFM"
   ]
  },
  {
   "cell_type": "markdown",
   "metadata": {},
   "source": [
    "<img src=\"gks_dfm.png\">"
   ]
  },
  {
   "cell_type": "markdown",
   "metadata": {},
   "source": [
    "##### Bipartite graph"
   ]
  },
  {
   "cell_type": "code",
   "execution_count": 15,
   "metadata": {},
   "outputs": [],
   "source": [
    "class DfmNode:\n",
    "    def __init__(self, dimensions, measures=[]):\n",
    "        self.measures = measures\n",
    "        self.dimensions = dimensions\n",
    "        self.distant_measures = []\n",
    "        \n",
    "    def merge_measures(self):\n",
    "        self.measures.extend(self.distant_measures)\n",
    "        self.measures = list(set(self.measures))"
   ]
  },
  {
   "cell_type": "code",
   "execution_count": 16,
   "metadata": {},
   "outputs": [],
   "source": [
    "dfm = {\n",
    "    'Федеральный округ': DfmNode([], []),\n",
    "    'ОКАТО': DfmNode(['Федеральный округ'], []),\n",
    "    'РМ по производству товаров и услуг': DfmNode(['ОКАТО', 'ОКВЭД-2', 'Год'], []),\n",
    "    'ОКВЭД-2': DfmNode([], []),\n",
    "}"
   ]
  },
  {
   "cell_type": "code",
   "execution_count": 17,
   "metadata": {},
   "outputs": [],
   "source": [
    "def add_previous(name):\n",
    "    for dim in dfm[name].dimensions:\n",
    "        if dim in dfm:\n",
    "            dfm[name].distant_measures.extend([f'{name}/{m}' for m in dfm[dim].distant_measures])\n",
    "            add_previous(dim)"
   ]
  },
  {
   "cell_type": "code",
   "execution_count": 18,
   "metadata": {},
   "outputs": [],
   "source": [
    "measure_labels = ['_count'] # sum?\n",
    "for label in measure_labels:\n",
    "    for key, value in dfm.items():\n",
    "        dfm[key].distant_measures.append(key + label)\n",
    "        dfm[key].distant_measures.extend([f'{key}/{dim}{label}' for dim in value.dimensions])\n",
    "        add_previous(key)\n",
    "        dfm[key].merge_measures()"
   ]
  },
  {
   "cell_type": "code",
   "execution_count": 19,
   "metadata": {},
   "outputs": [
    {
     "data": {
      "text/plain": [
       "['РМ по производству товаров и услуг/ОКАТО_count',\n",
       " 'РМ по производству товаров и услуг/ОКАТО/Федеральный округ_count',\n",
       " 'РМ по производству товаров и услуг/ОКВЭД-2_count',\n",
       " 'РМ по производству товаров и услуг_count',\n",
       " 'РМ по производству товаров и услуг/Год_count']"
      ]
     },
     "execution_count": 19,
     "metadata": {},
     "output_type": "execute_result"
    }
   ],
   "source": [
    "dfm['РМ по производству товаров и услуг'].measures"
   ]
  },
  {
   "cell_type": "code",
   "execution_count": 20,
   "metadata": {},
   "outputs": [],
   "source": [
    "dimensions_set = set(dfm.keys())"
   ]
  },
  {
   "cell_type": "code",
   "execution_count": 21,
   "metadata": {},
   "outputs": [
    {
     "data": {
      "text/plain": [
       "{'ОКАТО/Федеральный округ_count',\n",
       " 'ОКАТО_count',\n",
       " 'ОКВЭД-2_count',\n",
       " 'РМ по производству товаров и услуг/Год_count',\n",
       " 'РМ по производству товаров и услуг/ОКАТО/Федеральный округ_count',\n",
       " 'РМ по производству товаров и услуг/ОКАТО_count',\n",
       " 'РМ по производству товаров и услуг/ОКВЭД-2_count',\n",
       " 'РМ по производству товаров и услуг_count',\n",
       " 'Федеральный округ_count'}"
      ]
     },
     "execution_count": 21,
     "metadata": {},
     "output_type": "execute_result"
    }
   ],
   "source": [
    "measures_set = set()\n",
    "for key, node in dfm.items():\n",
    "    measures_set |= set(node.measures)\n",
    "measures_set"
   ]
  },
  {
   "cell_type": "code",
   "execution_count": null,
   "metadata": {},
   "outputs": [],
   "source": [
    "B = nx.Graph()\n",
    "B.add_nodes_from(dimensions_set, bipartite=0) \n",
    "B.add_nodes_from(measures_set, bipartite=1)\n",
    "edges = []\n",
    "for key, node in dfm.items():\n",
    "    for measure in node.measures:\n",
    "        edges.append(\n",
    "            (key, measure, 1)\n",
    "        )\n",
    "B.add_weighted_edges_from(edges, weight='weight')\n",
    " \n",
    "#print(B.edges(data=True))\n",
    "plt.figure(figsize=(10,10))\n",
    "pos = {node:[0, i*2] for i, node in enumerate(dimensions_set)}\n",
    "pos.update({node:[1, i] for i, node in enumerate(measures_set)})\n",
    "nx.draw(B, pos, with_labels=False)\n",
    " \n",
    "for p in pos:\n",
    "    pos[p][0] = pos[p][0] - 0.25 if pos[p][0] == 1 else pos[p][0] + 0.15\n",
    "    pos[p][1] += 0.1\n",
    "nx.draw_networkx_labels(B, pos, color='r')\n",
    "\n",
    "plt.show()"
   ]
  }
 ],
 "metadata": {
  "kernelspec": {
   "display_name": "Python 3",
   "language": "python",
   "name": "python3"
  },
  "language_info": {
   "codemirror_mode": {
    "name": "ipython",
    "version": 3
   },
   "file_extension": ".py",
   "mimetype": "text/x-python",
   "name": "python",
   "nbconvert_exporter": "python",
   "pygments_lexer": "ipython3",
   "version": "3.7.1"
  }
 },
 "nbformat": 4,
 "nbformat_minor": 2
}
